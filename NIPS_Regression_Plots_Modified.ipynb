{
 "cells": [
  {
   "cell_type": "code",
   "execution_count": 3,
   "metadata": {},
   "outputs": [
    {
     "name": "stderr",
     "output_type": "stream",
     "text": [
      "Using TensorFlow backend.\n"
     ]
    }
   ],
   "source": [
    "import os\n",
    "#import numpy as np\n",
    "import sys\n",
    "import glob\n",
    "import re\n",
    "import h5py\n",
    "\n",
    "### keras / tensorflow not used\n",
    "#os.environ['KERAS_BACKEND'] = 'tensorflow'\n",
    "#os.environ['CUDA_VISIBLE_DEVICES'] = '6'\n",
    "\n",
    "if __package__ is None:\n",
    "    sys.path.append(os.path.realpath(\"/data/shared/Software/CMS_Deep_Learning\"))\n",
    "    \n",
    "from CMS_Deep_Learning.io import gen_from_data, retrieve_data, simple_grab\n",
    "from CMS_Deep_Learning.postprocessing.metrics import distribute_to_bins\n",
    "\n",
    "\n",
    "if __package__ is None:\n",
    "    sys.path.append(os.path.realpath(\"/data/shared/Software/RegressionLCD\"))\n",
    "    \n",
    "from model import *\n",
    "from preprocessing import *\n",
    "from postprocessing import *"
   ]
  },
  {
   "cell_type": "code",
   "execution_count": 2,
   "metadata": {},
   "outputs": [
    {
     "name": "stdout",
     "output_type": "stream",
     "text": [
      "/nfshome/vitoriabp/gpu-4-culture-plate-sm/CaloImage_DNN\r\n"
     ]
    }
   ],
   "source": [
    "!pwd"
   ]
  },
  {
   "cell_type": "markdown",
   "metadata": {},
   "source": [
    "Getting true values and prediction data for each particle:"
   ]
  },
  {
   "cell_type": "code",
   "execution_count": 4,
   "metadata": {},
   "outputs": [],
   "source": [
    "gammaTruePred = true_pred_from_HDF5(\"GammaTruePred\") # These are the predictions saved to an HDF5 file\n",
    "eleTruePred = true_pred_from_HDF5(\"EleTruePred\")\n",
    "pi0TruePred = true_pred_from_HDF5(\"Pi0TruePred\")\n",
    "chPiTruePred = true_pred_from_HDF5(\"ChPiTruePred\")\n",
    "\n",
    "gamma_true = gammaTruePred[0]\n",
    "gamma_pred = gammaTruePred[1]\n",
    "\n",
    "ele_true = eleTruePred[0]\n",
    "ele_pred = eleTruePred[1]\n",
    "\n",
    "pi0_true = pi0TruePred[0]\n",
    "pi0_pred = pi0TruePred[1]\n",
    "\n",
    "chPi_true = chPiTruePred[0]\n",
    "chPi_pred = chPiTruePred[1]"
   ]
  },
  {
   "cell_type": "markdown",
   "metadata": {},
   "source": [
    "Binning for the DNN:"
   ]
  },
  {
   "cell_type": "code",
   "execution_count": 5,
   "metadata": {},
   "outputs": [],
   "source": [
    "nbins = 10\n",
    "x_gamma, y_gamma, means_gamma, rMeans_gamma, stds_gamma, rStds_gamma, sizes_gamma, res_gamma = binning(\n",
    "        nbins, gamma_true, gamma_pred)\n",
    "x_ele, y_ele, means_ele, rMeans_ele, stds_ele, rStds_ele, sizes_ele, res_ele = binning(nbins, ele_true, ele_pred)\n",
    "x_pi0, y_pi0, means_pi0, rMeans_pi0, stds_pi0, rStds_pi0, sizes_pi0, res_pi0 = binning(nbins, pi0_true, pi0_pred)\n",
    "x_chPi, y_chPi, means_chPi, rMeans_chPi, stds_chPi, rStds_chPi, sizes_chPi, res_chPi = binning(nbins, chPi_true, chPi_pred)"
   ]
  },
  {
   "cell_type": "code",
   "execution_count": 5,
   "metadata": {},
   "outputs": [
    {
     "name": "stdout",
     "output_type": "stream",
     "text": [
      "10\n",
      "10.000113 34.4617051165 58.79917\n",
      "58.800069 83.5231890148 108.054833\n",
      "108.055684 132.458641002 156.910895\n",
      "156.915463 181.629230813 206.30438\n",
      "206.304536 230.989508513 255.450573\n",
      "255.452637 280.103753374 304.320547\n",
      "304.326756 328.800548341 353.228191\n",
      "353.22951 377.687598251 402.117995\n",
      "402.119564 426.576279832 450.860894\n",
      "450.861182 475.566841852 509.735295\n"
     ]
    }
   ],
   "source": [
    "print len(x_gamma)\n",
    "for i in range(len(x_gamma)): print x_gamma[i].min(),x_gamma[i].mean(),x_gamma[i].max()"
   ]
  },
  {
   "cell_type": "markdown",
   "metadata": {},
   "source": [
    "Linear fit and binning:"
   ]
  },
  {
   "cell_type": "code",
   "execution_count": 6,
   "metadata": {},
   "outputs": [],
   "source": [
    "def findAB(the_target, E_summed, H_summed):\n",
    "    m = None\n",
    "    sol = None\n",
    "\n",
    "    for A in np.linspace(40, 150, 500):\n",
    "        for B in np.linspace(40, 150, 500):\n",
    "            res = (the_target - (A*E_summed + B*H_summed))**2\n",
    "            r = res.mean()\n",
    "        \n",
    "            if m == None or r < m:\n",
    "                m = r\n",
    "                sol = A, B\n",
    "                #print sol\n",
    "    return sol"
   ]
  },
  {
   "cell_type": "code",
   "execution_count": 7,
   "metadata": {},
   "outputs": [],
   "source": [
    "def lin_bins(A, B, the_target, E_summed, H_summed, nbins=10):\n",
    "    '''\n",
    "    Returns bins and res arrays to be plotted.\n",
    "    '''\n",
    "    min_E = 10\n",
    "    max_E = 500\n",
    "    Elow = float(min_E)\n",
    "    bins = []\n",
    "    res = []\n",
    "    size = []\n",
    "    for Eup in np.linspace(10, 500, nbins+1):\n",
    "        if not Eup or Elow == Eup: continue\n",
    "    \n",
    "        #### DO: shouldn't there also be an upper bound on the energy for each bin?\n",
    "        E_bin_old = np.where((the_target > Elow))\n",
    "        E_bin = np.where((the_target > Elow) & (the_target <= Eup))\n",
    "        content = (the_target - (A*E_summed + B*H_summed))[E_bin]\n",
    "        #### DO: should divide by energy of each object, instead of avgE at the end,\n",
    "        ####     to be more correct.  more relevant the wider bins get \n",
    "        rdif = 100.*content / the_target[E_bin]\n",
    "#        content = (the_target - (A*E_summed + B*H_summed))[E_bin_old]\n",
    "#        rdif = 100.*content / the_target[E_bin_old]\n",
    "        meandif = content.mean()\n",
    "        rms2 = rdif.std()\n",
    "        rms = content.std()\n",
    "        size.append(len(content))\n",
    "        E = (Eup + Elow) / 2.\n",
    "        #print E,the_target[E_bin_old].mean(),the_target[E_bin].mean()\n",
    "        #print meandif,meandif/E,(100*rms/E),rms2\n",
    "        bins.append(E)\n",
    "        #res.append(100*rms/E)\n",
    "        res.append(rms2)\n",
    "        me = content.mean()\n",
    "    \n",
    "        Elow = Eup\n",
    "        \n",
    "    return bins, res, size"
   ]
  },
  {
   "cell_type": "code",
   "execution_count": 8,
   "metadata": {},
   "outputs": [],
   "source": [
    "def returnBinsRes(directory):\n",
    "    GammaEscan = h5py.File(directory, \"r\")\n",
    "    gamma_E_sum = GammaEscan['ECAL'].value.sum( axis = (1,2,3))\n",
    "    gamma_H_sum = GammaEscan['HCAL'].value.sum( axis = (1,2,3))\n",
    "    gamma_target = np.array(GammaEscan[\"target\"], dtype = \"float32\")\n",
    "    gamma_target = gamma_target[:,1]\n",
    "\n",
    "    gamma_a, gamma_b = findAB(gamma_target, gamma_E_sum, gamma_H_sum)\n",
    "    print gamma_a, gamma_b\n",
    "    gamma_bins, gamma_res, sizes = lin_bins(gamma_a, gamma_b, gamma_target, gamma_E_sum, gamma_H_sum)\n",
    "    return gamma_bins, gamma_res, sizes"
   ]
  },
  {
   "cell_type": "code",
   "execution_count": 9,
   "metadata": {},
   "outputs": [],
   "source": [
    "def func(E, a, b, c):\n",
    "    # equation to be fit in the data\n",
    "    #return a / np.sqrt(E) + b + c / E\n",
    "    return np.sqrt((a**2 / E) + b**2 + (c / E)**2)"
   ]
  },
  {
   "cell_type": "code",
   "execution_count": 10,
   "metadata": {},
   "outputs": [
    {
     "name": "stdout",
     "output_type": "stream",
     "text": [
      "49.6993987976 111.643286573\n"
     ]
    }
   ],
   "source": [
    "# Linear fit for Gamma:\n",
    "gamma_bins, gamma_res, gamma_size = returnBinsRes(\"/bigdata/shared/LCD/V1/GammaEscan/test/GammaEscan_2_1.h5\")\n"
   ]
  },
  {
   "cell_type": "code",
   "execution_count": 11,
   "metadata": {},
   "outputs": [
    {
     "name": "stdout",
     "output_type": "stream",
     "text": [
      "[  8.54919203e-07   4.13295942e+00   3.27064720e+02]\n"
     ]
    }
   ],
   "source": [
    "# a, b, c for Gamma:\n",
    "#### DO: why divide by sqrt(2*N) instead of sqrt(N) ?\n",
    "gamma_popt, pcov = curve_fit(func, gamma_bins, gamma_res, sigma= gamma_res / np.sqrt(2*np.asarray(gamma_size))\n",
    "                             ,bounds=(0,100000000))\n",
    "print(gamma_popt)\n",
    "\n",
    "# if you want to check that the fit is OK:\n",
    "#y_gamma = func(gamma_bins, *gamma_popt)\n",
    "#plt.plot(gamma_bins, y_gamma, 'r')\n",
    "#plt.scatter(gamma_bins, gamma_res)\n",
    "#plt.show()"
   ]
  },
  {
   "cell_type": "code",
   "execution_count": 12,
   "metadata": {},
   "outputs": [
    {
     "name": "stdout",
     "output_type": "stream",
     "text": [
      "48.8176352705 112.745490982\n"
     ]
    }
   ],
   "source": [
    "# Linear fit for Ele:\n",
    "ele_bins, ele_res, ele_size = returnBinsRes(\"/bigdata/shared/LCD/V1/EleEscan/test/EleEscan_2_1.h5\")"
   ]
  },
  {
   "cell_type": "code",
   "execution_count": 13,
   "metadata": {},
   "outputs": [
    {
     "name": "stdout",
     "output_type": "stream",
     "text": [
      "[  23.41571222    3.11840272  246.81697324]\n"
     ]
    }
   ],
   "source": [
    "# a, b, c for Ele:\n",
    "ele_popt, pcov = curve_fit(func, ele_bins, ele_res, sigma= ele_res / np.sqrt(2*np.asarray(ele_size ))\n",
    "                                                                               , bounds=(0,100000000))\n",
    "\n",
    "print(ele_popt)"
   ]
  },
  {
   "cell_type": "code",
   "execution_count": 14,
   "metadata": {},
   "outputs": [
    {
     "name": "stdout",
     "output_type": "stream",
     "text": [
      "49.4789579158 102.825651303\n",
      "[  15.3982885     3.78924922  422.67385642]\n"
     ]
    }
   ],
   "source": [
    "# Linear fit for Pi0:\n",
    "pi0_bins, pi0_res, pi0_size = returnBinsRes(\"/bigdata/shared/LCD/V1/Pi0Escan/test/Pi0Escan_2_1.h5\")\n",
    "\n",
    "# a, b, c for Pi0:\n",
    "pi0_popt, pcov = curve_fit(func, pi0_bins, pi0_res, \n",
    "                           sigma= pi0_res / np.sqrt(2*np.asarray(pi0_size)), \n",
    "                           bounds=(0,100000000))\n",
    "print(pi0_popt)"
   ]
  },
  {
   "cell_type": "code",
   "execution_count": 16,
   "metadata": {},
   "outputs": [],
   "source": [
    "import numpy as np"
   ]
  },
  {
   "cell_type": "code",
   "execution_count": 17,
   "metadata": {},
   "outputs": [],
   "source": [
    "ChPi = h5py.File(\"/bigdata/shared/LCD/V1/ChPiEscan/_ChPiEscan/test/ChPiEscan_2_1.h5\", \"r\")\n",
    "\n",
    "chPi_E_sum = ChPi['good_ECAL'].value.sum( axis = (1,2,3))\n",
    "chPi_H_sum = ChPi['good_HCAL'].value.sum( axis = (1,2,3))\n",
    "\n",
    "chPi_target = np.array(ChPi[\"good_target\"], dtype = \"float32\")\n",
    "chPi_target = chPi_target[:,1]"
   ]
  },
  {
   "cell_type": "code",
   "execution_count": 18,
   "metadata": {},
   "outputs": [],
   "source": [
    "chPi_E_sum = ChPi['good_ECAL'].value.sum( axis = (1,2,3))"
   ]
  },
  {
   "cell_type": "code",
   "execution_count": 22,
   "metadata": {},
   "outputs": [
    {
     "data": {
      "text/plain": [
       "numpy.ndarray"
      ]
     },
     "execution_count": 22,
     "metadata": {},
     "output_type": "execute_result"
    }
   ],
   "source": [
    "type(chPi_E_sum)"
   ]
  },
  {
   "cell_type": "code",
   "execution_count": 23,
   "metadata": {},
   "outputs": [
    {
     "data": {
      "text/plain": [
       "array([ 1.72190276,  3.75888027,  9.38118412, ...,  1.42276937,\n",
       "        3.45525148,  1.42684163])"
      ]
     },
     "execution_count": 23,
     "metadata": {},
     "output_type": "execute_result"
    }
   ],
   "source": [
    "chPi_H_sum"
   ]
  },
  {
   "cell_type": "code",
   "execution_count": 27,
   "metadata": {},
   "outputs": [],
   "source": [
    "chPi_a, chPi_b = findAB(chPi_target, chPi_E_sum, chPi_H_sum)"
   ]
  },
  {
   "cell_type": "code",
   "execution_count": 30,
   "metadata": {},
   "outputs": [],
   "source": [
    "chPi_bins, chPi_res, s = lin_bins(chPi_a, chPi_b, chPi_target, chPi_E_sum, chPi_H_sum)"
   ]
  },
  {
   "cell_type": "code",
   "execution_count": 33,
   "metadata": {},
   "outputs": [],
   "source": [
    "import matplotlib.pyplot as plt"
   ]
  },
  {
   "cell_type": "code",
   "execution_count": 34,
   "metadata": {},
   "outputs": [],
   "source": [
    "%matplotlib inline"
   ]
  },
  {
   "cell_type": "code",
   "execution_count": 35,
   "metadata": {},
   "outputs": [
    {
     "data": {
      "text/plain": [
       "[<matplotlib.lines.Line2D at 0x7fc412e59390>]"
      ]
     },
     "execution_count": 35,
     "metadata": {},
     "output_type": "execute_result"
    },
    {
     "data": {
      "image/png": "[encoded data removed]",
      "text/plain": [
       "<matplotlib.figure.Figure at 0x7fc42282a210>"
      ]
     },
     "metadata": {},
     "output_type": "display_data"
    }
   ],
   "source": [
    "plt.plot(chPi_bins, chPi_res)"
   ]
  },
  {
   "cell_type": "markdown",
   "metadata": {},
   "source": [
    "Code for the final plot:"
   ]
  },
  {
   "cell_type": "code",
   "execution_count": 36,
   "metadata": {},
   "outputs": [],
   "source": [
    "def fit_part(func, energies, res, sigmas=None, verbose=False):\n",
    "    popt, pcov = curve_fit(func, energies, res,\n",
    "                           bounds=(0,1000),\n",
    "                            sigma=sigmas,\n",
    "                          #method='trf'\n",
    "                          )\n",
    "    if (verbose == True):\n",
    "        print(popt)\n",
    "        # print(pcov)\n",
    "    return popt"
   ]
  },
  {
   "cell_type": "code",
   "execution_count": 37,
   "metadata": {},
   "outputs": [],
   "source": [
    "def aux_stds(stds, label=\"\", marker='.', col='black'):\n",
    "    '''\n",
    "    Single particle stds auxiliar.\n",
    "    :param means: array containing the means to be plotted.\n",
    "    :type means: array\n",
    "    :param stds: stds array to calculate the error.\n",
    "    :type stds: array\n",
    "    :param sizes: array containing the number of samples in each bin, to calculate the error.\n",
    "    :type sizes: array\n",
    "    '''\n",
    "    \n",
    "    n = len(stds)\n",
    "    iSize = (500-10)/n\n",
    "\n",
    "    energies = []\n",
    "    \n",
    "    for i in range(0, n):\n",
    "        x_axis = 10+(i * iSize + (i + 1) * iSize) / 2\n",
    "        energies.append(x_axis)\n",
    "    \n",
    "    plt.scatter(energies, stds, marker=marker, color=col, alpha=0.5, label=label)\n",
    "        \n",
    "    return energies"
   ]
  },
  {
   "cell_type": "code",
   "execution_count": 44,
   "metadata": {},
   "outputs": [],
   "source": [
    "def ultimate_plot(rStds_gamma, rStds_ele, rStds_pi0, rStds_chPi, bins_gamma, res_gamma, bins_ele, res_ele, bins_pi0, res_pi0, bins_chPi, res_chPi, str_title=\"\", verbose=False):\n",
    "    #from scipy.optimize import curve_fit\n",
    "    plt.figure(figsize=(6, 6))\n",
    "\n",
    "    ## plot the points ##\n",
    "    energies_gamma = aux_stds(rStds_gamma, label=\"CNN: Photons\", marker='o', col='green')\n",
    "    energies_ele = aux_stds(rStds_ele, label=\"CNN: Electrons\", marker='*', col='red')\n",
    "    energies_pi0 = aux_stds(rStds_pi0, label=\"CNN: Neutral Pions\", marker='s', col='blue')\n",
    "    energies_chPi = aux_stds(rStds_chPi, label=\"CNN: Charged Pions\", marker='^', col='orange')\n",
    "    ## - ##\n",
    "\n",
    "    ## fits ##\n",
    "    plt.rcParams['agg.path.chunksize'] = 10000\n",
    "    \n",
    "\n",
    "    #gamma_popt = fit_part(bad_func, energies_gamma, rStds_gamma)\n",
    "    #print gamma_popt\n",
    "    #ele_popt = fit_part(bad_func, energies_ele, rStds_ele)\n",
    "    #print ele_popt\n",
    "    #pi0_popt = fit_part(bad_func, energies_pi0, rStds_pi0)\n",
    "    #print pi0_popt\n",
    "    #chPi_popt = fit_part(bad_func, energies_chPi, rStds_chPi)\n",
    "    #print chPi_popt\n",
    "    \n",
    "    sig_rStds_gamma = rStds_gamma / np.sqrt(2*np.asarray(sizes_gamma))\n",
    "    gamma_popt = fit_part(func, energies_gamma, rStds_gamma, sigmas= sig_rStds_gamma)\n",
    "    print gamma_popt\n",
    "    sig_rStds_ele = rStds_ele / np.sqrt(2*np.asarray(sizes_ele))\n",
    "    ele_popt = fit_part(func, energies_ele, rStds_ele, sigmas = sig_rStds_ele)\n",
    "    print ele_popt\n",
    "    sig_rStds_pi0 = rStds_pi0 / np.sqrt(2*np.asarray(sizes_pi0))\n",
    "    pi0_popt = fit_part(func, energies_pi0, rStds_pi0, sigmas = sig_rStds_pi0)\n",
    "    print pi0_popt\n",
    "    sig_rStds_chPi = rStds_chPi / np.sqrt(2*np.asarray(sizes_chPi))\n",
    "    chPi_popt = fit_part(func, energies_chPi, rStds_chPi, sigmas = sig_rStds_chPi)\n",
    "    print chPi_popt\n",
    "    \n",
    "    y_gamma = func(energies_gamma, *gamma_popt)\n",
    "    y_ele = func(energies_ele, *ele_popt)\n",
    "    y_pi0 = func(energies_pi0, *pi0_popt)\n",
    "    y_chPi = func(energies_chPi, *chPi_popt)\n",
    "\n",
    "    plt.plot(energies_gamma, y_gamma, color='green', ls=\"-\")\n",
    "    plt.plot(energies_ele, y_ele, color='red', ls=\"-\")\n",
    "    plt.plot(energies_pi0, y_pi0, color='blue', ls=\"-\")\n",
    "    plt.plot(energies_chPi, y_chPi, color='orange', ls=\"-\")\n",
    "    ## -- ##\n",
    "    \n",
    "    ## linear ##\n",
    "    plt.plot(bins_gamma, res_gamma, color='green', ls=\":\", label=\"Linear fit: Photons\", marker='o', markerfacecolor='None', alpha=0.5)\n",
    "    plt.plot(bins_ele, res_ele, color='red', ls=\":\", label=\"Linear fit: Electrons\", marker='*', markerfacecolor='None', alpha=0.5)\n",
    "    plt.plot(bins_pi0, res_pi0, color='blue', ls=\":\", label=\"Linear fit: Neutral Pions\", marker='s', markerfacecolor='None', alpha=0.5)\n",
    "    plt.plot(chPi_bins, chPi_res, color='orange', ls=\":\", label=\"Linear fit: Charged Pions\", marker='^', markerfacecolor='None', alpha=0.5)\n",
    "    ## -- ##\n",
    "    plt.yscale('log')\n",
    "    plt.xlabel(\"True Energy (GeV)\", size=18)\n",
    "    plt.ylabel(r\"$\\frac{\\sigma({\\Delta E})}{E_{true}}$\", size=21)\n",
    "    plt.title(\"Energy resolution\", size=18)\n",
    "    plt.xlim(0, 500)\n",
    "    #plt.ylim(0.5, 2000)\n",
    "    plt.legend(\n",
    "        bbox_to_anchor=(1, 1.1), prop={'size': 18}\n",
    "    )\n",
    "    plt.show()\n",
    "    #plt.savefig(\"ultimate.png\", dpi=1000,bbox_inches='tight')"
   ]
  },
  {
   "cell_type": "code",
   "execution_count": 45,
   "metadata": {},
   "outputs": [
    {
     "name": "stdout",
     "output_type": "stream",
     "text": [
      "[  13.56059536    0.90848929  195.3101272 ]\n",
      "[  15.16343964    0.69869754  172.52354046]\n",
      "[  2.08694880e-05   8.98752892e-01   3.25665064e+02]\n",
      "[  1.15113478e+02   2.72039016e-10   1.00000000e+03]\n"
     ]
    },
    {
     "data": {
      "image/png": "[encoded data removed]",
      "text/plain": [
       "<matplotlib.figure.Figure at 0x7fc40a2cc410>"
      ]
     },
     "metadata": {},
     "output_type": "display_data"
    }
   ],
   "source": [
    "ultimate_plot(rStds_gamma, rStds_ele, rStds_pi0, rStds_chPi, gamma_bins, gamma_res, ele_bins, ele_res, pi0_bins, pi0_res, chPi_bins, chPi_res)"
   ]
  },
  {
   "cell_type": "code",
   "execution_count": 48,
   "metadata": {},
   "outputs": [],
   "source": [
    "## To get the predictions for all the files!\n",
    "\n",
    "# grab targets (y) for GammaEscan\n",
    "test_dir = \"/bigdata/shared/LCD/V1/GammaEscan/test/\"\n",
    "\n",
    "y_gamma = simple_grab('Y', data=test_dir, label_keys='target',\n",
    "                        input_keys=['ECAL', 'HCAL'])\n",
    "y_gamma = y_gamma[:, 1:]\n",
    "y_gamma = y_gamma.ravel()"
   ]
  },
  {
   "cell_type": "code",
   "execution_count": 49,
   "metadata": {},
   "outputs": [
    {
     "name": "stdout",
     "output_type": "stream",
     "text": [
      "[ 3.05450194  6.9095479   8.95467217 ...,  3.47775073  0.46970158\n",
      "  5.6702033 ]\n",
      "[ 0.24333755  0.19483612  0.22780916 ...,  0.14785408  0.0097054\n",
      "  0.15037942]\n"
     ]
    }
   ],
   "source": [
    "# grab values to input in the linear regression for GammaEscan\n",
    "ecal, hcal = simple_grab('X', data=test_dir, label_keys=['ECAL', 'HCAL'], input_keys=['ECAL', 'HCAL'])\n",
    "\n",
    "s_ecal = sumCal(ecal)\n",
    "s_hcal = sumCal(hcal)\n",
    "\n",
    "s_ecal = s_ecal.ravel()\n",
    "s_hcal = s_hcal.ravel()\n",
    "\n",
    "print s_ecal\n",
    "\n",
    "print s_hcal"
   ]
  },
  {
   "cell_type": "code",
   "execution_count": 50,
   "metadata": {},
   "outputs": [],
   "source": [
    "# grab targets (y) for EleEscan\n",
    "test_dir = \"/bigdata/shared/LCD/V1/EleEscan/test/\"\n",
    "\n",
    "y_ele = simple_grab('Y', data=test_dir, label_keys='target',\n",
    "                        input_keys=['ECAL', 'HCAL'])\n",
    "y_ele = y_ele[:, 1:]\n",
    "y_ele = y_ele.ravel()"
   ]
  },
  {
   "cell_type": "code",
   "execution_count": 51,
   "metadata": {},
   "outputs": [
    {
     "name": "stdout",
     "output_type": "stream",
     "text": [
      "[ 8.4796093   1.42956294  5.27279468 ...,  3.62874665  1.21420259\n",
      "  5.18594228]\n",
      "[ 0.44454447  0.01842831  0.21940319 ...,  0.05814127  0.02894732\n",
      "  0.21202614]\n"
     ]
    }
   ],
   "source": [
    "# grab values to input in the linear regression for EleEscan\n",
    "ecal_ele, hcal_ele = simple_grab('X', data=test_dir, label_keys=['ECAL', 'HCAL'], input_keys=['ECAL', 'HCAL'])\n",
    "\n",
    "s_ecal_ele = sumCal(ecal_ele)\n",
    "s_hcal_ele = sumCal(hcal_ele)\n",
    "\n",
    "s_ecal_ele = s_ecal_ele.ravel()\n",
    "s_hcal_ele = s_hcal_ele.ravel()\n",
    "\n",
    "print s_ecal_ele\n",
    "\n",
    "print s_hcal_ele"
   ]
  },
  {
   "cell_type": "code",
   "execution_count": 1,
   "metadata": {},
   "outputs": [],
   "source": [
    "def grab(direc):\n",
    "    # grab targets (y) for EleEscan\n",
    "    y_ele = simple_grab('Y', data=direc, label_keys='target',\n",
    "                        input_keys=['ECAL', 'HCAL'])\n",
    "    y_ele = y_ele[:, 1:]\n",
    "    y_ele = y_ele.ravel()\n",
    "    \n",
    "    # grab and calculate values for regression model\n",
    "    ecal_ele, hcal_ele = simple_grab('X', data=direc, label_keys=['ECAL', 'HCAL'], input_keys=['ECAL', 'HCAL'])\n",
    "\n",
    "    s_ecal_ele = sumCal(ecal_ele)\n",
    "    s_hcal_ele = sumCal(hcal_ele)\n",
    "\n",
    "    s_ecal_ele = s_ecal_ele.ravel()\n",
    "    s_hcal_ele = s_hcal_ele.ravel()\n",
    "\n",
    "    return y_ele, s_ecal_ele, s_hcal_ele"
   ]
  },
  {
   "cell_type": "code",
   "execution_count": 2,
   "metadata": {},
   "outputs": [
    {
     "ename": "NameError",
     "evalue": "global name 'simple_grab' is not defined",
     "output_type": "error",
     "traceback": [
      "\u001b[0;31m---------------------------------------------------------------------------\u001b[0m",
      "\u001b[0;31mNameError\u001b[0m                                 Traceback (most recent call last)",
      "\u001b[0;32m<ipython-input-2-161c8fe09edf>\u001b[0m in \u001b[0;36m<module>\u001b[0;34m()\u001b[0m\n\u001b[0;32m----> 1\u001b[0;31m \u001b[0my_pi0\u001b[0m\u001b[0;34m,\u001b[0m \u001b[0ms_ecal_pi0\u001b[0m\u001b[0;34m,\u001b[0m \u001b[0ms_hcal_pi0\u001b[0m \u001b[0;34m=\u001b[0m \u001b[0mgrab\u001b[0m\u001b[0;34m(\u001b[0m\u001b[0;34m\"/bigdata/shared/LCD/V1/Pi0Escan/test/\"\u001b[0m\u001b[0;34m)\u001b[0m\u001b[0;34m\u001b[0m\u001b[0m\n\u001b[0m",
      "\u001b[0;32m<ipython-input-1-d6269193bcb7>\u001b[0m in \u001b[0;36mgrab\u001b[0;34m(direc)\u001b[0m\n\u001b[1;32m      1\u001b[0m \u001b[0;32mdef\u001b[0m \u001b[0mgrab\u001b[0m\u001b[0;34m(\u001b[0m\u001b[0mdirec\u001b[0m\u001b[0;34m)\u001b[0m\u001b[0;34m:\u001b[0m\u001b[0;34m\u001b[0m\u001b[0m\n\u001b[1;32m      2\u001b[0m     \u001b[0;31m# grab targets (y) for EleEscan\u001b[0m\u001b[0;34m\u001b[0m\u001b[0;34m\u001b[0m\u001b[0m\n\u001b[0;32m----> 3\u001b[0;31m     y_ele = simple_grab('Y', data=direc, label_keys='target',\n\u001b[0m\u001b[1;32m      4\u001b[0m                         input_keys=['ECAL', 'HCAL'])\n\u001b[1;32m      5\u001b[0m     \u001b[0my_ele\u001b[0m \u001b[0;34m=\u001b[0m \u001b[0my_ele\u001b[0m\u001b[0;34m[\u001b[0m\u001b[0;34m:\u001b[0m\u001b[0;34m,\u001b[0m \u001b[0;36m1\u001b[0m\u001b[0;34m:\u001b[0m\u001b[0;34m]\u001b[0m\u001b[0;34m\u001b[0m\u001b[0m\n",
      "\u001b[0;31mNameError\u001b[0m: global name 'simple_grab' is not defined"
     ]
    }
   ],
   "source": [
    "y_pi0, s_ecal_pi0, s_hcal_pi0 = grab(\"/bigdata/shared/LCD/V1/Pi0Escan/test/\")"
   ]
  },
  {
   "cell_type": "code",
   "execution_count": null,
   "metadata": {},
   "outputs": [],
   "source": [
    "def grab_ch(direc):\n",
    "    # grab targets (y) for EleEscan\n",
    "    y_ele = simple_grab('Y', data=direc, label_keys='good_target',\n",
    "                        input_keys=['good_ECAL', 'good_HCAL'])\n",
    "    y_ele = y_ele[:, 1:]\n",
    "    y_ele = y_ele.ravel()\n",
    "    \n",
    "    # grab and calculate values for regression model\n",
    "    ecal_ele, hcal_ele = simple_grab('X', data=direc, label_keys=['good_ECAL', 'good_HCAL'], input_keys=['good_ECAL', 'good_HCAL'])\n",
    "\n",
    "    s_ecal_ele = sumCal(ecal_ele)\n",
    "    s_hcal_ele = sumCal(hcal_ele)\n",
    "\n",
    "    s_ecal_ele = s_ecal_ele.ravel()\n",
    "    s_hcal_ele = s_hcal_ele.ravel()\n",
    "\n",
    "    return y_ele, s_ecal_ele, s_hcal_ele"
   ]
  },
  {
   "cell_type": "code",
   "execution_count": null,
   "metadata": {},
   "outputs": [],
   "source": [
    "y_chPi, s_ecal_chPi, s_hcal_chPi = grab(\"/bigdata/shared/LCD/V1/ChPiEscan/_ChPiEscan/test/\")"
   ]
  },
  {
   "cell_type": "code",
   "execution_count": null,
   "metadata": {},
   "outputs": [],
   "source": [
    "gamma_linpred = gamma_a*gamma_E_sum + gamma_b*gamma_H_sum"
   ]
  },
  {
   "cell_type": "code",
   "execution_count": null,
   "metadata": {},
   "outputs": [],
   "source": [
    "out, x, y = distribute_to_bins(gamma_target, [gamma_target, gamma_linpred], nb_bins=nbins, equalBins=True)"
   ]
  },
  {
   "cell_type": "code",
   "execution_count": null,
   "metadata": {},
   "outputs": [],
   "source": [
    "def simple_binning(nbins, label, pred):\n",
    "    iSize = 500 / nbins\n",
    "\n",
    "    means = []\n",
    "    rMeans = []  # normalized means\n",
    "    stds = []\n",
    "    rStds = []  # normalized standard deviations\n",
    "    sizes = []  # number of events in the bins\n",
    "    \n",
    "    for i in range(0, nbins):\n",
    "        sizes.append(len(x[i]))\n",
    "\n",
    "        #if (plot == True):\n",
    "            #plotPredictedXTarget(x[i], y[i], i * iSize, (i + 1) * iSize)\n",
    "        #PredictedTarget(x[i], y[i], i * iSize, (i + 1) * iSize)\n",
    "            # histEDif(x[i], y[i], nbins=200, lim=20, lim_l=i*iSize, lim_r=(i+1)*iSize)\n",
    "        #histRelDif(x[i], y[i], nbins=150, lim=15, lim_l=i*iSize, lim_r=(i+1)*iSize)\n",
    "\n",
    "        difference = dif(x[i], y[i])\n",
    "        relDiff = rDif(x[i], y[i])\n",
    "\n",
    "        mean = np.mean(difference)\n",
    "        means.append(mean)\n",
    "\n",
    "        rMean = np.mean(relDiff)\n",
    "        rMeans.append(rMean)\n",
    "\n",
    "        std = np.std(difference)\n",
    "        stds.append(std)\n",
    "\n",
    "        rStd = np.std(relDiff)\n",
    "        rStds.append(rStd)\n",
    "        \n",
    "        return x, y, means, rMeans, stds, rStds, sizes"
   ]
  },
  {
   "cell_type": "code",
   "execution_count": null,
   "metadata": {},
   "outputs": [],
   "source": []
  },
  {
   "cell_type": "code",
   "execution_count": null,
   "metadata": {},
   "outputs": [],
   "source": [
    "nbins = 10\n",
    "x_gamma, y_gamma, means_gamma, rMeans_gamma, stds_gamma, rStds_gamma, sizes_gamma = simple_binning(\n",
    "        nbins, gamma_true, gamma_pred)\n",
    "x_ele, y_ele, means_ele, rMeans_ele, stds_ele, rStds_ele, sizes_ele = simple_binning(nbins, ele_true, ele_pred)\n",
    "x_pi0, y_pi0, means_pi0, rMeans_pi0, stds_pi0, rStds_pi0, sizes_pi0 = simple_binning(nbins, pi0_true, pi0_pred)\n",
    "x_chPi, y_chPi, means_chPi, rMeans_chPi, stds_chPi, rStds_chPi, sizes_chPi = simple_binning(nbins, chPi_true, chPi_pred)"
   ]
  }
 ],
 "metadata": {
  "kernelspec": {
   "display_name": "Python 2",
   "language": "python",
   "name": "python2"
  },
  "language_info": {
   "codemirror_mode": {
    "name": "ipython",
    "version": 2
   },
   "file_extension": ".py",
   "mimetype": "text/x-python",
   "name": "python",
   "nbconvert_exporter": "python",
   "pygments_lexer": "ipython2",
   "version": "2.7.12"
  }
 },
 "nbformat": 4,
 "nbformat_minor": 2
}
